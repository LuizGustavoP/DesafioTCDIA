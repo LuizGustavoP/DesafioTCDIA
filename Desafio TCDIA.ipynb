{
 "cells": [
  {
   "cell_type": "markdown",
   "id": "747c78c4",
   "metadata": {},
   "source": [
    "# Desafio Gorilla - CDB\n",
    "\n",
    "Neste notebook, será implementado o desafio de calcular o $TCDI_{acumulado}$ com a seguinte formula\n",
    "\n",
    "\n",
    "## <center> $TCDI_{acumulado} = \\prod _{k=1}^n (1+TCDI_k×\\frac{TCDB}{100})$\n"
   ]
  },
  {
   "cell_type": "markdown",
   "id": "7adfb18c",
   "metadata": {},
   "source": [
    "# Importando as bibliotecas a serem usadas\n",
    "\n",
    "Nesse programa, serão usadas as bibliotecas JSON e CSV, pois serão recebidos de entrada dois arquivos:\n",
    "\n",
    "    CSV -> Contém as variações do CDI e as datas onde o valor do CDI foi gravado;\n",
    "    JSON -> Será o arquivo de entrada, de onde virá a taxa do CDB, a data inicial de investimento, e a data atual.\n",
    "    \n",
    "Utilizando as datas e os valores do CDI contidos no arquivo CSV, será possível calcular o preço unitário do CDB\n",
    "utilizando a fórmula descrita na célula anterior. Os campos citados durante o código serão os seguintes:\n",
    "\n",
    "    Campos CSV:\n",
    "\n",
    "         sSecurityName -> Declara a linha como contendo valores de CDI;\n",
    "         dtDate -> Data onde o valor do CDI foi gravado;\n",
    "         dLastTradePrice -> Valor do CDI na data determinada;\n",
    "     \n",
    "    Campos JSON:\n",
    " \n",
    "        investmentDate -> Data de investimento inicial, ou seja, a data inicial da iteração;\n",
    "        cdbRate -> Taxa do CDB;\n",
    "        currentDate -> Data atual, ou seja, a data final da iteração."
   ]
  },
  {
   "cell_type": "code",
   "execution_count": 1,
   "id": "07e1347c",
   "metadata": {},
   "outputs": [],
   "source": [
    "import json\n",
    "import csv\n",
    "\n",
    "arquivo = open('investimento.json');\n",
    "dados = json.load(arquivo);\n",
    "cdis = csv.DictReader(open('CDI_Prices.csv', newline=''));\n",
    "\n",
    "# Converte as datas do arquivo json para o formato do arquivo csv para facilitar na busca;\n",
    "dataAtual = dados['currentDate'][8:10]+'/'+ dados['currentDate'][5:7]+ '/' + dados['currentDate'][0:4] \n",
    "dataInicial = dados['investmentDate'][8:10]+'/'+ dados['investmentDate'][5:7]+ '/' + dados['investmentDate'][0:4]\n"
   ]
  },
  {
   "cell_type": "markdown",
   "id": "842fa8ba",
   "metadata": {},
   "source": [
    "# Calcula TCDIk\n",
    "\n",
    "Implementando o método que irá calcular o $TCDI_k$, com base na seguinte função:\n",
    "\n",
    "## <center> $TCDI_k = (\\frac{CDI_k}{100} +1)^{\\frac{1}{252}} - 1$"
   ]
  },
  {
   "cell_type": "code",
   "execution_count": 2,
   "id": "7d7005a1",
   "metadata": {},
   "outputs": [],
   "source": [
    "def calculaTCDIk(CDIk):\n",
    "    return  round( ( ( ( ( CDIk / 100 ) + 1 ) **(1./252) ) -1 ), 8);"
   ]
  },
  {
   "cell_type": "markdown",
   "id": "3b257eaa",
   "metadata": {},
   "source": [
    "# Calcula TCDI Acumulado\n",
    "\n",
    "Implementando o método que irá calcular o $TCDI_{acumulado}$, com base na seguinte função:\n",
    "\n",
    "## <center> $TCDI_{acumulado} = \\prod _{k=1}^n (1+TCDI_k×\\frac{TCDB}{100})$"
   ]
  },
  {
   "cell_type": "code",
   "execution_count": 3,
   "id": "24fe0950",
   "metadata": {},
   "outputs": [],
   "source": [
    "def calculaTCDIA(TCDIk, TCDB):\n",
    "    return (1 + ( TCDIk * ( TCDB / 100) ) );"
   ]
  },
  {
   "cell_type": "markdown",
   "id": "b0b34d09",
   "metadata": {},
   "source": [
    "# Realiza o cálculo do produtório"
   ]
  },
  {
   "cell_type": "code",
   "execution_count": 4,
   "id": "00968cf5",
   "metadata": {},
   "outputs": [],
   "source": [
    "encontrou = False;\n",
    "TCDI = 1.0;\n",
    "\n",
    "for row in cdis:\n",
    "    \n",
    "    if(encontrou == True):\n",
    "        \n",
    "        TCDI *= calculaTCDIA(\n",
    "                    calculaTCDIk(\n",
    "                        float(row['dLastTradePrice'])), float(dados['cdbRate']));\n",
    "        \n",
    "    if(row['dtDate'] == dataAtual):\n",
    "        encontrou = True;\n",
    "        \n",
    "    if(row['dtDate'] == dataInicial):\n",
    "        break;"
   ]
  },
  {
   "cell_type": "markdown",
   "id": "07c7164d",
   "metadata": {},
   "source": [
    "# Retorna o preço do TCDI acumulado:"
   ]
  },
  {
   "cell_type": "code",
   "execution_count": 5,
   "id": "8eacf32c",
   "metadata": {},
   "outputs": [
    {
     "name": "stdout",
     "output_type": "stream",
     "text": [
      "1.01544545\n"
     ]
    }
   ],
   "source": [
    "print(round(TCDI,8))"
   ]
  },
  {
   "cell_type": "markdown",
   "id": "f8a03560",
   "metadata": {},
   "source": [
    "# Retorna o preço unitário do CDB atual:"
   ]
  },
  {
   "cell_type": "code",
   "execution_count": 6,
   "id": "c7aa971e",
   "metadata": {},
   "outputs": [
    {
     "name": "stdout",
     "output_type": "stream",
     "text": [
      "1015.4454495839007\n"
     ]
    }
   ],
   "source": [
    "print(1000 * TCDI)"
   ]
  }
 ],
 "metadata": {
  "kernelspec": {
   "display_name": "Python 3",
   "language": "python",
   "name": "python3"
  },
  "language_info": {
   "codemirror_mode": {
    "name": "ipython",
    "version": 3
   },
   "file_extension": ".py",
   "mimetype": "text/x-python",
   "name": "python",
   "nbconvert_exporter": "python",
   "pygments_lexer": "ipython3",
   "version": "3.8.8"
  }
 },
 "nbformat": 4,
 "nbformat_minor": 5
}
